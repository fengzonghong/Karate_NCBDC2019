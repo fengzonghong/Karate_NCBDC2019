{
 "cells": [
  {
   "cell_type": "code",
   "execution_count": 37,
   "metadata": {
    "collapsed": true
   },
   "outputs": [],
   "source": [
    "import numpy as np\n",
    "import pandas as pd"
   ]
  },
  {
   "cell_type": "markdown",
   "metadata": {},
   "source": [
    "## 数据预处理"
   ]
  },
  {
   "cell_type": "code",
   "execution_count": 38,
   "metadata": {
    "collapsed": true
   },
   "outputs": [],
   "source": [
    "# 1. 读取数据\n",
    "path_str = 'TrainData\\Vehicle No.4.csv'\n",
    "df_train_no_0 = pd.read_csv(path_str)"
   ]
  },
  {
   "cell_type": "code",
   "execution_count": 39,
   "metadata": {
    "collapsed": false
   },
   "outputs": [
    {
     "data": {
      "text/html": [
       "<div>\n",
       "<table border=\"1\" class=\"dataframe\">\n",
       "  <thead>\n",
       "    <tr style=\"text-align: right;\">\n",
       "      <th></th>\n",
       "      <th>time</th>\n",
       "      <th>speed</th>\n",
       "      <th>total_voltage</th>\n",
       "      <th>total_current</th>\n",
       "      <th>soc</th>\n",
       "      <th>temp_max</th>\n",
       "      <th>temp_min</th>\n",
       "      <th>motor_voltage</th>\n",
       "      <th>motor_current</th>\n",
       "      <th>mileage</th>\n",
       "    </tr>\n",
       "  </thead>\n",
       "  <tbody>\n",
       "    <tr>\n",
       "      <th>count</th>\n",
       "      <td>3.484280e+05</td>\n",
       "      <td>348428.000000</td>\n",
       "      <td>348428.000000</td>\n",
       "      <td>348428.000000</td>\n",
       "      <td>348428.000000</td>\n",
       "      <td>348428.000000</td>\n",
       "      <td>348428.000000</td>\n",
       "      <td>348428.000000</td>\n",
       "      <td>348428.000000</td>\n",
       "      <td>348428.000000</td>\n",
       "    </tr>\n",
       "    <tr>\n",
       "      <th>mean</th>\n",
       "      <td>2.018049e+13</td>\n",
       "      <td>13.311358</td>\n",
       "      <td>451.933869</td>\n",
       "      <td>8.743907</td>\n",
       "      <td>55.801006</td>\n",
       "      <td>21.338423</td>\n",
       "      <td>16.916600</td>\n",
       "      <td>356.897910</td>\n",
       "      <td>11.155553</td>\n",
       "      <td>47658.416367</td>\n",
       "    </tr>\n",
       "    <tr>\n",
       "      <th>std</th>\n",
       "      <td>3.671734e+08</td>\n",
       "      <td>17.382670</td>\n",
       "      <td>193.484421</td>\n",
       "      <td>43.813073</td>\n",
       "      <td>30.304856</td>\n",
       "      <td>10.794129</td>\n",
       "      <td>9.667592</td>\n",
       "      <td>250.378129</td>\n",
       "      <td>44.199362</td>\n",
       "      <td>11855.682940</td>\n",
       "    </tr>\n",
       "    <tr>\n",
       "      <th>min</th>\n",
       "      <td>2.018010e+13</td>\n",
       "      <td>0.000000</td>\n",
       "      <td>0.000000</td>\n",
       "      <td>-163.000000</td>\n",
       "      <td>0.000000</td>\n",
       "      <td>0.000000</td>\n",
       "      <td>-1.000000</td>\n",
       "      <td>0.000000</td>\n",
       "      <td>-152.000000</td>\n",
       "      <td>33842.000000</td>\n",
       "    </tr>\n",
       "    <tr>\n",
       "      <th>25%</th>\n",
       "      <td>2.018012e+13</td>\n",
       "      <td>0.000000</td>\n",
       "      <td>526.900000</td>\n",
       "      <td>-10.000000</td>\n",
       "      <td>39.000000</td>\n",
       "      <td>19.000000</td>\n",
       "      <td>13.000000</td>\n",
       "      <td>0.000000</td>\n",
       "      <td>0.000000</td>\n",
       "      <td>36060.175000</td>\n",
       "    </tr>\n",
       "    <tr>\n",
       "      <th>50%</th>\n",
       "      <td>2.018042e+13</td>\n",
       "      <td>0.000000</td>\n",
       "      <td>532.300000</td>\n",
       "      <td>0.000000</td>\n",
       "      <td>61.000000</td>\n",
       "      <td>22.000000</td>\n",
       "      <td>16.000000</td>\n",
       "      <td>530.000000</td>\n",
       "      <td>0.000000</td>\n",
       "      <td>45219.550000</td>\n",
       "    </tr>\n",
       "    <tr>\n",
       "      <th>75%</th>\n",
       "      <td>2.018072e+13</td>\n",
       "      <td>31.000000</td>\n",
       "      <td>537.400000</td>\n",
       "      <td>13.000000</td>\n",
       "      <td>80.000000</td>\n",
       "      <td>29.000000</td>\n",
       "      <td>21.000000</td>\n",
       "      <td>535.000000</td>\n",
       "      <td>1.000000</td>\n",
       "      <td>55496.225000</td>\n",
       "    </tr>\n",
       "    <tr>\n",
       "      <th>max</th>\n",
       "      <td>2.018113e+13</td>\n",
       "      <td>58.000000</td>\n",
       "      <td>585.000000</td>\n",
       "      <td>264.000000</td>\n",
       "      <td>100.000000</td>\n",
       "      <td>42.000000</td>\n",
       "      <td>39.000000</td>\n",
       "      <td>578.000000</td>\n",
       "      <td>278.000000</td>\n",
       "      <td>69233.800000</td>\n",
       "    </tr>\n",
       "  </tbody>\n",
       "</table>\n",
       "</div>"
      ],
      "text/plain": [
       "               time          speed  total_voltage  total_current  \\\n",
       "count  3.484280e+05  348428.000000  348428.000000  348428.000000   \n",
       "mean   2.018049e+13      13.311358     451.933869       8.743907   \n",
       "std    3.671734e+08      17.382670     193.484421      43.813073   \n",
       "min    2.018010e+13       0.000000       0.000000    -163.000000   \n",
       "25%    2.018012e+13       0.000000     526.900000     -10.000000   \n",
       "50%    2.018042e+13       0.000000     532.300000       0.000000   \n",
       "75%    2.018072e+13      31.000000     537.400000      13.000000   \n",
       "max    2.018113e+13      58.000000     585.000000     264.000000   \n",
       "\n",
       "                 soc       temp_max       temp_min  motor_voltage  \\\n",
       "count  348428.000000  348428.000000  348428.000000  348428.000000   \n",
       "mean       55.801006      21.338423      16.916600     356.897910   \n",
       "std        30.304856      10.794129       9.667592     250.378129   \n",
       "min         0.000000       0.000000      -1.000000       0.000000   \n",
       "25%        39.000000      19.000000      13.000000       0.000000   \n",
       "50%        61.000000      22.000000      16.000000     530.000000   \n",
       "75%        80.000000      29.000000      21.000000     535.000000   \n",
       "max       100.000000      42.000000      39.000000     578.000000   \n",
       "\n",
       "       motor_current        mileage  \n",
       "count  348428.000000  348428.000000  \n",
       "mean       11.155553   47658.416367  \n",
       "std        44.199362   11855.682940  \n",
       "min      -152.000000   33842.000000  \n",
       "25%         0.000000   36060.175000  \n",
       "50%         0.000000   45219.550000  \n",
       "75%         1.000000   55496.225000  \n",
       "max       278.000000   69233.800000  "
      ]
     },
     "execution_count": 39,
     "metadata": {},
     "output_type": "execute_result"
    }
   ],
   "source": [
    "df_train_no_0.describe()"
   ]
  },
  {
   "cell_type": "code",
   "execution_count": 40,
   "metadata": {
    "collapsed": false
   },
   "outputs": [],
   "source": [
    "\n",
    "# 2. 按时间排序\n",
    "df_train_no_0_sorted = df_train_no_0.sort_values(by='time')\n",
    "\n",
    "# 3 按时间片 分成不同的df 存放，处理后合并\n",
    "df_train_no_0_sorted_time1 = df_train_no_0_sorted[df_train_no_0_sorted.time < 20180200000000]\n",
    "\n",
    "df_train_no_0_sorted_time4 = df_train_no_0_sorted[(df_train_no_0_sorted.time > 20180200000000) & (df_train_no_0_sorted.time < 20180500000000)]\n",
    "\n",
    "df_train_no_0_sorted_time7 = df_train_no_0_sorted[(df_train_no_0_sorted.time > 20180500000000) & (df_train_no_0_sorted.time < 20181000000000)]\n",
    "\n",
    "df_train_no_0_sorted_time11 = df_train_no_0_sorted[(df_train_no_0_sorted.time > 20181000000000) & (df_train_no_0_sorted.time < 20181200000000)]"
   ]
  },
  {
   "cell_type": "code",
   "execution_count": 41,
   "metadata": {
    "collapsed": true
   },
   "outputs": [],
   "source": [
    "## 制作label列，便于之后的数据清醒，封装成函数\n",
    "def data_proprecessing(df_train):\n",
    "    time1_array = df_train.values\n",
    "    # 增加一列作为特征列\n",
    "    new_col = np.zeros((time1_array.shape[0],))\n",
    "    time1_array = np.c_[time1_array, new_col]\n",
    "    for i in range(time1_array.shape[0]):\n",
    "        if i  == 0:\n",
    "            time1_array[i][10] = 0\n",
    "        else:\n",
    "            time1_array[i][10] = time1_array[i][-2] - time1_array[i-1][-2]\n",
    "    \n",
    "    return time1_array\n",
    "    \n",
    "    "
   ]
  },
  {
   "cell_type": "code",
   "execution_count": 42,
   "metadata": {
    "collapsed": false
   },
   "outputs": [],
   "source": [
    "train_XY1 = data_proprecessing(df_train_no_0_sorted_time1)\n",
    "train_XY4 = data_proprecessing(df_train_no_0_sorted_time4)\n",
    "train_XY7 = data_proprecessing(df_train_no_0_sorted_time7)\n",
    "train_XY11 = data_proprecessing(df_train_no_0_sorted_time11)"
   ]
  },
  {
   "cell_type": "code",
   "execution_count": 43,
   "metadata": {
    "collapsed": false
   },
   "outputs": [
    {
     "name": "stdout",
     "output_type": "stream",
     "text": [
      "(131393, 11)\n",
      "(76043, 11)\n",
      "(79532, 11)\n",
      "(61460, 11)\n"
     ]
    }
   ],
   "source": [
    "print(train_XY1.shape)\n",
    "print(train_XY4.shape)\n",
    "print(train_XY7.shape)\n",
    "print(train_XY11.shape)"
   ]
  },
  {
   "cell_type": "code",
   "execution_count": 44,
   "metadata": {
    "collapsed": false
   },
   "outputs": [
    {
     "name": "stdout",
     "output_type": "stream",
     "text": [
      "(348428, 11)\n"
     ]
    }
   ],
   "source": [
    "# 将各个月份的数据合并在一起\n",
    "train_XY_finnal = np.vstack((train_XY1, train_XY4, train_XY7, train_XY11))\n",
    "print(train_XY_finnal.shape)\n"
   ]
  },
  {
   "cell_type": "code",
   "execution_count": 45,
   "metadata": {
    "collapsed": false
   },
   "outputs": [],
   "source": [
    "## 保存成文件\n",
    "train_XY_df = pd.DataFrame(train_XY_finnal)\n",
    "\n",
    "train_XY_df.columns = ['time','speed','total_voltage', 'total_current', 'soc', 'temp_max', 'temp_min', 'motor_voltage', 'motor_current','mileage','label']\n",
    "\n",
    "train_XY_df.to_csv('temp/train_XY_No4.csv', index=False)\n"
   ]
  },
  {
   "cell_type": "code",
   "execution_count": null,
   "metadata": {
    "collapsed": true
   },
   "outputs": [],
   "source": []
  },
  {
   "cell_type": "code",
   "execution_count": null,
   "metadata": {
    "collapsed": true
   },
   "outputs": [],
   "source": []
  }
 ],
 "metadata": {
  "anaconda-cloud": {},
  "kernelspec": {
   "display_name": "Python [Root]",
   "language": "python",
   "name": "Python [Root]"
  },
  "language_info": {
   "codemirror_mode": {
    "name": "ipython",
    "version": 3
   },
   "file_extension": ".py",
   "mimetype": "text/x-python",
   "name": "python",
   "nbconvert_exporter": "python",
   "pygments_lexer": "ipython3",
   "version": "3.5.1"
  }
 },
 "nbformat": 4,
 "nbformat_minor": 0
}
