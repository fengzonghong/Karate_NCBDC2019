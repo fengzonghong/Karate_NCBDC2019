{
 "cells": [
  {
   "cell_type": "code",
   "execution_count": 29,
   "metadata": {
    "collapsed": true
   },
   "outputs": [],
   "source": [
    "import pandas as pd\n",
    "import numpy as np"
   ]
  },
  {
   "cell_type": "code",
   "execution_count": 30,
   "metadata": {
    "collapsed": true
   },
   "outputs": [],
   "source": [
    "data = pd.read_csv('train_XY_No4.csv')"
   ]
  },
  {
   "cell_type": "code",
   "execution_count": 31,
   "metadata": {
    "collapsed": false
   },
   "outputs": [
    {
     "data": {
      "text/html": [
       "<div>\n",
       "<table border=\"1\" class=\"dataframe\">\n",
       "  <thead>\n",
       "    <tr style=\"text-align: right;\">\n",
       "      <th></th>\n",
       "      <th>time</th>\n",
       "      <th>speed</th>\n",
       "      <th>total_voltage</th>\n",
       "      <th>total_current</th>\n",
       "      <th>soc</th>\n",
       "      <th>temp_max</th>\n",
       "      <th>temp_min</th>\n",
       "      <th>motor_voltage</th>\n",
       "      <th>motor_current</th>\n",
       "      <th>mileage</th>\n",
       "      <th>label</th>\n",
       "    </tr>\n",
       "  </thead>\n",
       "  <tbody>\n",
       "    <tr>\n",
       "      <th>0</th>\n",
       "      <td>2.018010e+13</td>\n",
       "      <td>0.0</td>\n",
       "      <td>538.2</td>\n",
       "      <td>-19.0</td>\n",
       "      <td>38.0</td>\n",
       "      <td>30.0</td>\n",
       "      <td>21.0</td>\n",
       "      <td>0.0</td>\n",
       "      <td>0.0</td>\n",
       "      <td>33842.8</td>\n",
       "      <td>0.0</td>\n",
       "    </tr>\n",
       "    <tr>\n",
       "      <th>1</th>\n",
       "      <td>2.018010e+13</td>\n",
       "      <td>0.0</td>\n",
       "      <td>538.2</td>\n",
       "      <td>-19.0</td>\n",
       "      <td>38.0</td>\n",
       "      <td>30.0</td>\n",
       "      <td>21.0</td>\n",
       "      <td>0.0</td>\n",
       "      <td>0.0</td>\n",
       "      <td>33842.8</td>\n",
       "      <td>0.0</td>\n",
       "    </tr>\n",
       "    <tr>\n",
       "      <th>2</th>\n",
       "      <td>2.018010e+13</td>\n",
       "      <td>0.0</td>\n",
       "      <td>538.2</td>\n",
       "      <td>-19.0</td>\n",
       "      <td>38.0</td>\n",
       "      <td>30.0</td>\n",
       "      <td>21.0</td>\n",
       "      <td>0.0</td>\n",
       "      <td>0.0</td>\n",
       "      <td>33842.8</td>\n",
       "      <td>0.0</td>\n",
       "    </tr>\n",
       "    <tr>\n",
       "      <th>3</th>\n",
       "      <td>2.018010e+13</td>\n",
       "      <td>0.0</td>\n",
       "      <td>538.2</td>\n",
       "      <td>-19.0</td>\n",
       "      <td>38.0</td>\n",
       "      <td>30.0</td>\n",
       "      <td>21.0</td>\n",
       "      <td>0.0</td>\n",
       "      <td>0.0</td>\n",
       "      <td>33842.8</td>\n",
       "      <td>0.0</td>\n",
       "    </tr>\n",
       "    <tr>\n",
       "      <th>4</th>\n",
       "      <td>2.018010e+13</td>\n",
       "      <td>0.0</td>\n",
       "      <td>538.2</td>\n",
       "      <td>-19.0</td>\n",
       "      <td>38.0</td>\n",
       "      <td>30.0</td>\n",
       "      <td>21.0</td>\n",
       "      <td>0.0</td>\n",
       "      <td>0.0</td>\n",
       "      <td>33842.8</td>\n",
       "      <td>0.0</td>\n",
       "    </tr>\n",
       "  </tbody>\n",
       "</table>\n",
       "</div>"
      ],
      "text/plain": [
       "           time  speed  total_voltage  total_current   soc  temp_max  \\\n",
       "0  2.018010e+13    0.0          538.2          -19.0  38.0      30.0   \n",
       "1  2.018010e+13    0.0          538.2          -19.0  38.0      30.0   \n",
       "2  2.018010e+13    0.0          538.2          -19.0  38.0      30.0   \n",
       "3  2.018010e+13    0.0          538.2          -19.0  38.0      30.0   \n",
       "4  2.018010e+13    0.0          538.2          -19.0  38.0      30.0   \n",
       "\n",
       "   temp_min  motor_voltage  motor_current  mileage  label  \n",
       "0      21.0            0.0            0.0  33842.8    0.0  \n",
       "1      21.0            0.0            0.0  33842.8    0.0  \n",
       "2      21.0            0.0            0.0  33842.8    0.0  \n",
       "3      21.0            0.0            0.0  33842.8    0.0  \n",
       "4      21.0            0.0            0.0  33842.8    0.0  "
      ]
     },
     "execution_count": 31,
     "metadata": {},
     "output_type": "execute_result"
    }
   ],
   "source": [
    "data.head()"
   ]
  },
  {
   "cell_type": "markdown",
   "metadata": {},
   "source": [
    "## 定义时间转换函数"
   ]
  },
  {
   "cell_type": "code",
   "execution_count": 32,
   "metadata": {
    "collapsed": true
   },
   "outputs": [],
   "source": [
    "import dateutil\n",
    "def time_transform(data):\n",
    "    time_array = data['time'].astype('int64').astype('str').values\n",
    "    for i in range(len(time_array)):\n",
    "        time_array[i] = dateutil.parser.parse(time_array[i]).strftime('%Y-%m-%d %H:%M:%S')\n",
    "    time_Index = pd.to_datetime(time_array)\n",
    "    time_diff_array = np.zeros((len(time_Index)))\n",
    "    for i in range(len(time_Index)):\n",
    "        if i == 0:\n",
    "            time_diff_array[i] = 10\n",
    "        else:\n",
    "            time_diff_array[i] = (time_Index[i] - time_Index[i-1]).seconds\n",
    "    time_seconds = pd.DataFrame(time_diff_array, columns=['time_seconds'])\n",
    "    data_final = pd.concat([data.iloc[:,[1,2,3,4,5,6,7,8,10]],time_seconds], axis=1)\n",
    "    \n",
    "    return data_final\n",
    "    "
   ]
  },
  {
   "cell_type": "code",
   "execution_count": 33,
   "metadata": {
    "collapsed": false
   },
   "outputs": [],
   "source": [
    "data_trans = time_transform(data)"
   ]
  },
  {
   "cell_type": "code",
   "execution_count": 34,
   "metadata": {
    "collapsed": false
   },
   "outputs": [
    {
     "data": {
      "text/html": [
       "<div>\n",
       "<table border=\"1\" class=\"dataframe\">\n",
       "  <thead>\n",
       "    <tr style=\"text-align: right;\">\n",
       "      <th></th>\n",
       "      <th>speed</th>\n",
       "      <th>total_voltage</th>\n",
       "      <th>total_current</th>\n",
       "      <th>soc</th>\n",
       "      <th>temp_max</th>\n",
       "      <th>temp_min</th>\n",
       "      <th>motor_voltage</th>\n",
       "      <th>motor_current</th>\n",
       "      <th>label</th>\n",
       "      <th>time_seconds</th>\n",
       "    </tr>\n",
       "  </thead>\n",
       "  <tbody>\n",
       "    <tr>\n",
       "      <th>0</th>\n",
       "      <td>0.0</td>\n",
       "      <td>538.2</td>\n",
       "      <td>-19.0</td>\n",
       "      <td>38.0</td>\n",
       "      <td>30.0</td>\n",
       "      <td>21.0</td>\n",
       "      <td>0.0</td>\n",
       "      <td>0.0</td>\n",
       "      <td>0.0</td>\n",
       "      <td>10.0</td>\n",
       "    </tr>\n",
       "    <tr>\n",
       "      <th>1</th>\n",
       "      <td>0.0</td>\n",
       "      <td>538.2</td>\n",
       "      <td>-19.0</td>\n",
       "      <td>38.0</td>\n",
       "      <td>30.0</td>\n",
       "      <td>21.0</td>\n",
       "      <td>0.0</td>\n",
       "      <td>0.0</td>\n",
       "      <td>0.0</td>\n",
       "      <td>10.0</td>\n",
       "    </tr>\n",
       "    <tr>\n",
       "      <th>2</th>\n",
       "      <td>0.0</td>\n",
       "      <td>538.2</td>\n",
       "      <td>-19.0</td>\n",
       "      <td>38.0</td>\n",
       "      <td>30.0</td>\n",
       "      <td>21.0</td>\n",
       "      <td>0.0</td>\n",
       "      <td>0.0</td>\n",
       "      <td>0.0</td>\n",
       "      <td>10.0</td>\n",
       "    </tr>\n",
       "    <tr>\n",
       "      <th>3</th>\n",
       "      <td>0.0</td>\n",
       "      <td>538.2</td>\n",
       "      <td>-19.0</td>\n",
       "      <td>38.0</td>\n",
       "      <td>30.0</td>\n",
       "      <td>21.0</td>\n",
       "      <td>0.0</td>\n",
       "      <td>0.0</td>\n",
       "      <td>0.0</td>\n",
       "      <td>10.0</td>\n",
       "    </tr>\n",
       "    <tr>\n",
       "      <th>4</th>\n",
       "      <td>0.0</td>\n",
       "      <td>538.2</td>\n",
       "      <td>-19.0</td>\n",
       "      <td>38.0</td>\n",
       "      <td>30.0</td>\n",
       "      <td>21.0</td>\n",
       "      <td>0.0</td>\n",
       "      <td>0.0</td>\n",
       "      <td>0.0</td>\n",
       "      <td>10.0</td>\n",
       "    </tr>\n",
       "  </tbody>\n",
       "</table>\n",
       "</div>"
      ],
      "text/plain": [
       "   speed  total_voltage  total_current   soc  temp_max  temp_min  \\\n",
       "0    0.0          538.2          -19.0  38.0      30.0      21.0   \n",
       "1    0.0          538.2          -19.0  38.0      30.0      21.0   \n",
       "2    0.0          538.2          -19.0  38.0      30.0      21.0   \n",
       "3    0.0          538.2          -19.0  38.0      30.0      21.0   \n",
       "4    0.0          538.2          -19.0  38.0      30.0      21.0   \n",
       "\n",
       "   motor_voltage  motor_current  label  time_seconds  \n",
       "0            0.0            0.0    0.0          10.0  \n",
       "1            0.0            0.0    0.0          10.0  \n",
       "2            0.0            0.0    0.0          10.0  \n",
       "3            0.0            0.0    0.0          10.0  \n",
       "4            0.0            0.0    0.0          10.0  "
      ]
     },
     "execution_count": 34,
     "metadata": {},
     "output_type": "execute_result"
    }
   ],
   "source": [
    "data_trans.head()"
   ]
  },
  {
   "cell_type": "code",
   "execution_count": 35,
   "metadata": {
    "collapsed": true
   },
   "outputs": [],
   "source": [
    "data_trans.to_csv('train_XY_s4.csv',index=False)"
   ]
  },
  {
   "cell_type": "code",
   "execution_count": null,
   "metadata": {
    "collapsed": true
   },
   "outputs": [],
   "source": []
  }
 ],
 "metadata": {
  "anaconda-cloud": {},
  "kernelspec": {
   "display_name": "Python [Root]",
   "language": "python",
   "name": "Python [Root]"
  },
  "language_info": {
   "codemirror_mode": {
    "name": "ipython",
    "version": 3
   },
   "file_extension": ".py",
   "mimetype": "text/x-python",
   "name": "python",
   "nbconvert_exporter": "python",
   "pygments_lexer": "ipython3",
   "version": "3.5.1"
  }
 },
 "nbformat": 4,
 "nbformat_minor": 0
}
