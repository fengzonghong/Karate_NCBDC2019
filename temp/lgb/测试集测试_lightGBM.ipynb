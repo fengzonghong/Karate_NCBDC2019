{
 "cells": [
  {
   "cell_type": "code",
   "execution_count": 1,
   "metadata": {
    "collapsed": true
   },
   "outputs": [],
   "source": [
    "import pickle\n",
    "import pandas as pd\n",
    "import numpy as np\n",
    "import pathlib"
   ]
  },
  {
   "cell_type": "code",
   "execution_count": 2,
   "metadata": {
    "collapsed": false
   },
   "outputs": [],
   "source": [
    "data_root = pathlib.Path('.\\\\TestData\\\\')\n",
    "all_test_paths = list(data_root.glob('*.csv'))\n",
    "all_test_paths = [str(path) for path in all_test_paths]\n",
    "all_test_paths = sorted(all_test_paths)"
   ]
  },
  {
   "cell_type": "code",
   "execution_count": 3,
   "metadata": {
    "collapsed": true
   },
   "outputs": [],
   "source": [
    "def test_predict(test_path):\n",
    "    #读取Model\n",
    "    with open('model/lgb.pickle', 'rb') as f:\n",
    "        xgb_model = pickle.load(f)\n",
    "    df = pd.read_csv(test_path)\n",
    "    test_X = df.ix[:,1:8]\n",
    "    pred_X = xgb_model.predict(test_X)\n",
    "    pred_X_dis = pred_X * df['time_diff'] / 3600\n",
    "    return pred_X_dis"
   ]
  },
  {
   "cell_type": "code",
   "execution_count": 4,
   "metadata": {
    "collapsed": true
   },
   "outputs": [],
   "source": [
    "pred_X_list = []"
   ]
  },
  {
   "cell_type": "code",
   "execution_count": 5,
   "metadata": {
    "collapsed": false
   },
   "outputs": [],
   "source": [
    "for test_path in all_test_paths:\n",
    "    pred_X_arr = test_predict(test_path)\n",
    "    pred_X_list.append(pred_X_arr)"
   ]
  },
  {
   "cell_type": "code",
   "execution_count": 6,
   "metadata": {
    "collapsed": false
   },
   "outputs": [],
   "source": [
    "for i in range(len(pred_X_list)):\n",
    "    \n",
    "    np.savetxt('tmp/test_pred_{}.csv'.format(i), pred_X_list[i], delimiter = ',')"
   ]
  },
  {
   "cell_type": "code",
   "execution_count": 7,
   "metadata": {
    "collapsed": true
   },
   "outputs": [],
   "source": [
    "submit_pred = []\n",
    "for i in pred_X_list:\n",
    "    pred_sum = np.sum(i)\n",
    "    submit_pred.append(pred_sum)"
   ]
  },
  {
   "cell_type": "code",
   "execution_count": 8,
   "metadata": {
    "collapsed": false
   },
   "outputs": [
    {
     "name": "stdout",
     "output_type": "stream",
     "text": [
      "0号车预测数据： [12.898613938547054, 108.25844443631537, 74.8452538873184, 106.15227450060009, 122.22544748274474, 72.75716182871665, 131.066171560403, 53.51110989927024, 51.74522674959553, 18.732781723916347]\n",
      "1号车预测数据： [11.377584749778071, 10.413180838657523, 33.802048329843785, 59.169017741635784, 110.20145671332533, 119.79516148376936, 97.98971678004538, 117.80378735032284, 32.90738747967592, 81.50486009308187]\n",
      "2号车预测数据： [12.096843554291775, 93.9393543151861, 67.1751387776263, 72.09516470155778, 63.327509842658586, 56.163046051898355, 15.642950394488974, 110.88453288063376, 106.83325286844911, 100.11354152863626]\n",
      "3号车预测数据： [9.483029942356714, 7.675496625226682, 54.41062480746741, 98.9009925429164, 126.15726804596436, 127.9772925951882, 80.46974252488671, 105.34379452292117, 79.57847441053273, 74.31485569285033]\n",
      "4号车预测数据： [98.18197806236189, 95.12499276765799, 17.98618774468695, 31.907185306439406, 36.940754136751735, 61.055023454412506, 49.045161757289854, 66.88081055832747, 115.01877859845955, 104.8532937173142]\n",
      "5号车预测数据： [29.147466954968365, 9.601321264204516, 66.81711969389241, 63.27143638353119, 81.35220933242707]\n",
      "6号车预测数据： [109.53941435317489, 114.78822492476495, 28.526669310062232, 57.8870003092971, 53.08807888679231]\n",
      "7号车预测数据： [102.09510714980897, 73.37033923706421, 54.636692826745936, 28.719034748064427, 93.44642193305305]\n",
      "8号车预测数据： [103.68033667779048, 98.8281229712664, 116.69526356536073, 34.69472678718459, 33.98313272629826]\n",
      "9号车预测数据： [18.68450859370919, 57.931213656532194, 53.66637411668606, 109.51550569635059, 99.73019121955318]\n",
      "10号车预测数据： [18.670054943092975, 115.00288469451529, 94.37617223586905, 71.9223873991258, 82.1720364672728]\n",
      "11号车预测数据： [70.38535421114109, 82.55180807491939, 65.89297270333392, 120.65039589923312, 126.4297854857687]\n",
      "12号车预测数据： [81.61470464319346, 79.05164498845895, 80.25025267152279, 53.21703638554971, 10.156213461201654]\n",
      "13号车预测数据： [11.81961195742562, 67.53000834519375, 88.12240798869628, 51.18336664607971, 95.69935132075135]\n",
      "14号车预测数据： [23.24314382929683, 65.29093967883676, 87.13554399343795, 91.30126684584839, 94.57136195567419]\n"
     ]
    }
   ],
   "source": [
    "print(\"0号车预测数据：\", submit_pred[0:10])\n",
    "print(\"1号车预测数据：\", submit_pred[35:45])\n",
    "print(\"2号车预测数据：\", submit_pred[45:55])\n",
    "print(\"3号车预测数据：\", submit_pred[55:65])\n",
    "print(\"4号车预测数据：\", submit_pred[65:75])\n",
    "print(\"5号车预测数据：\", submit_pred[75:80])\n",
    "print(\"6号车预测数据：\", submit_pred[80:85])\n",
    "print(\"7号车预测数据：\", submit_pred[85:90])\n",
    "print(\"8号车预测数据：\", submit_pred[90:95])\n",
    "print(\"9号车预测数据：\", submit_pred[95:100])\n",
    "print(\"10号车预测数据：\", submit_pred[10:15])\n",
    "print(\"11号车预测数据：\", submit_pred[15:20])\n",
    "print(\"12号车预测数据：\", submit_pred[20:25])\n",
    "print(\"13号车预测数据：\", submit_pred[25:30])\n",
    "print(\"14号车预测数据：\", submit_pred[30:35])"
   ]
  },
  {
   "cell_type": "code",
   "execution_count": 9,
   "metadata": {
    "collapsed": false
   },
   "outputs": [],
   "source": [
    "submit_df = pd.read_csv('submit/Submit.csv')"
   ]
  },
  {
   "cell_type": "code",
   "execution_count": 10,
   "metadata": {
    "collapsed": false
   },
   "outputs": [
    {
     "name": "stderr",
     "output_type": "stream",
     "text": [
      "D:\\Program Files\\anaconda3\\lib\\site-packages\\ipykernel\\__main__.py:3: SettingWithCopyWarning: \n",
      "A value is trying to be set on a copy of a slice from a DataFrame\n",
      "\n",
      "See the caveats in the documentation: http://pandas.pydata.org/pandas-docs/stable/indexing.html#indexing-view-versus-copy\n",
      "  app.launch_new_instance()\n",
      "D:\\Program Files\\anaconda3\\lib\\site-packages\\ipykernel\\__main__.py:6: SettingWithCopyWarning: \n",
      "A value is trying to be set on a copy of a slice from a DataFrame\n",
      "\n",
      "See the caveats in the documentation: http://pandas.pydata.org/pandas-docs/stable/indexing.html#indexing-view-versus-copy\n",
      "D:\\Program Files\\anaconda3\\lib\\site-packages\\ipykernel\\__main__.py:9: SettingWithCopyWarning: \n",
      "A value is trying to be set on a copy of a slice from a DataFrame\n",
      "\n",
      "See the caveats in the documentation: http://pandas.pydata.org/pandas-docs/stable/indexing.html#indexing-view-versus-copy\n",
      "D:\\Program Files\\anaconda3\\lib\\site-packages\\ipykernel\\__main__.py:12: SettingWithCopyWarning: \n",
      "A value is trying to be set on a copy of a slice from a DataFrame\n",
      "\n",
      "See the caveats in the documentation: http://pandas.pydata.org/pandas-docs/stable/indexing.html#indexing-view-versus-copy\n",
      "D:\\Program Files\\anaconda3\\lib\\site-packages\\ipykernel\\__main__.py:15: SettingWithCopyWarning: \n",
      "A value is trying to be set on a copy of a slice from a DataFrame\n",
      "\n",
      "See the caveats in the documentation: http://pandas.pydata.org/pandas-docs/stable/indexing.html#indexing-view-versus-copy\n",
      "D:\\Program Files\\anaconda3\\lib\\site-packages\\ipykernel\\__main__.py:18: SettingWithCopyWarning: \n",
      "A value is trying to be set on a copy of a slice from a DataFrame\n",
      "\n",
      "See the caveats in the documentation: http://pandas.pydata.org/pandas-docs/stable/indexing.html#indexing-view-versus-copy\n",
      "D:\\Program Files\\anaconda3\\lib\\site-packages\\ipykernel\\__main__.py:21: SettingWithCopyWarning: \n",
      "A value is trying to be set on a copy of a slice from a DataFrame\n",
      "\n",
      "See the caveats in the documentation: http://pandas.pydata.org/pandas-docs/stable/indexing.html#indexing-view-versus-copy\n",
      "D:\\Program Files\\anaconda3\\lib\\site-packages\\ipykernel\\__main__.py:24: SettingWithCopyWarning: \n",
      "A value is trying to be set on a copy of a slice from a DataFrame\n",
      "\n",
      "See the caveats in the documentation: http://pandas.pydata.org/pandas-docs/stable/indexing.html#indexing-view-versus-copy\n",
      "D:\\Program Files\\anaconda3\\lib\\site-packages\\ipykernel\\__main__.py:27: SettingWithCopyWarning: \n",
      "A value is trying to be set on a copy of a slice from a DataFrame\n",
      "\n",
      "See the caveats in the documentation: http://pandas.pydata.org/pandas-docs/stable/indexing.html#indexing-view-versus-copy\n",
      "D:\\Program Files\\anaconda3\\lib\\site-packages\\ipykernel\\__main__.py:30: SettingWithCopyWarning: \n",
      "A value is trying to be set on a copy of a slice from a DataFrame\n",
      "\n",
      "See the caveats in the documentation: http://pandas.pydata.org/pandas-docs/stable/indexing.html#indexing-view-versus-copy\n",
      "D:\\Program Files\\anaconda3\\lib\\site-packages\\ipykernel\\__main__.py:33: SettingWithCopyWarning: \n",
      "A value is trying to be set on a copy of a slice from a DataFrame\n",
      "\n",
      "See the caveats in the documentation: http://pandas.pydata.org/pandas-docs/stable/indexing.html#indexing-view-versus-copy\n",
      "D:\\Program Files\\anaconda3\\lib\\site-packages\\ipykernel\\__main__.py:36: SettingWithCopyWarning: \n",
      "A value is trying to be set on a copy of a slice from a DataFrame\n",
      "\n",
      "See the caveats in the documentation: http://pandas.pydata.org/pandas-docs/stable/indexing.html#indexing-view-versus-copy\n",
      "D:\\Program Files\\anaconda3\\lib\\site-packages\\ipykernel\\__main__.py:39: SettingWithCopyWarning: \n",
      "A value is trying to be set on a copy of a slice from a DataFrame\n",
      "\n",
      "See the caveats in the documentation: http://pandas.pydata.org/pandas-docs/stable/indexing.html#indexing-view-versus-copy\n",
      "D:\\Program Files\\anaconda3\\lib\\site-packages\\ipykernel\\__main__.py:42: SettingWithCopyWarning: \n",
      "A value is trying to be set on a copy of a slice from a DataFrame\n",
      "\n",
      "See the caveats in the documentation: http://pandas.pydata.org/pandas-docs/stable/indexing.html#indexing-view-versus-copy\n",
      "D:\\Program Files\\anaconda3\\lib\\site-packages\\ipykernel\\__main__.py:45: SettingWithCopyWarning: \n",
      "A value is trying to be set on a copy of a slice from a DataFrame\n",
      "\n",
      "See the caveats in the documentation: http://pandas.pydata.org/pandas-docs/stable/indexing.html#indexing-view-versus-copy\n"
     ]
    }
   ],
   "source": [
    "# 放置0号车\n",
    "for i in range(10):\n",
    "    submit_df['Answer'][i] = submit_pred[i]\n",
    "# 放置1号车\n",
    "for i in range(10):\n",
    "    submit_df['Answer'][i+10] = submit_pred[i+35]\n",
    "# 放置2号车\n",
    "for i in range(10):\n",
    "    submit_df['Answer'][i+20] = submit_pred[i+45]\n",
    "# 放置3号车\n",
    "for i in range(10):\n",
    "    submit_df['Answer'][i+30] = submit_pred[i+55]\n",
    "# 放置4号车\n",
    "for i in range(10):\n",
    "    submit_df['Answer'][i+40] = submit_pred[i+65]\n",
    "# 放置5号车\n",
    "for i in range(5):\n",
    "    submit_df['Answer'][i+50] = submit_pred[i+75]\n",
    "# 放置6号车\n",
    "for i in range(5):\n",
    "    submit_df['Answer'][i+55] = submit_pred[i+80]\n",
    "# 放置7号车\n",
    "for i in range(5):\n",
    "    submit_df['Answer'][i+60] = submit_pred[i+85]\n",
    "# 放置8号车\n",
    "for i in range(5):\n",
    "    submit_df['Answer'][i+65] = submit_pred[i+90]\n",
    "# 放置9号车\n",
    "for i in range(5):\n",
    "    submit_df['Answer'][i+70] = submit_pred[i+95]\n",
    "# 放置10号车\n",
    "for i in range(5):\n",
    "    submit_df['Answer'][i+75] = submit_pred[i+10]\n",
    "# 放置11号车\n",
    "for i in range(5):\n",
    "    submit_df['Answer'][i+80] = submit_pred[i+15]\n",
    "# 放置12号车\n",
    "for i in range(5):\n",
    "    submit_df['Answer'][i+85] = submit_pred[i+20]\n",
    "# 放置13号车\n",
    "for i in range(5):\n",
    "    submit_df['Answer'][i+90] = submit_pred[i+25]\n",
    "# 放置14号车\n",
    "for i in range(5):\n",
    "    submit_df['Answer'][i+95] = submit_pred[i+30]"
   ]
  },
  {
   "cell_type": "code",
   "execution_count": 11,
   "metadata": {
    "collapsed": true
   },
   "outputs": [],
   "source": [
    "submit_df.to_csv('submit/submit_lightGBM.csv', index=False)"
   ]
  },
  {
   "cell_type": "code",
   "execution_count": null,
   "metadata": {
    "collapsed": true
   },
   "outputs": [],
   "source": []
  },
  {
   "cell_type": "code",
   "execution_count": null,
   "metadata": {
    "collapsed": true
   },
   "outputs": [],
   "source": []
  }
 ],
 "metadata": {
  "anaconda-cloud": {},
  "kernelspec": {
   "display_name": "Python [Root]",
   "language": "python",
   "name": "Python [Root]"
  },
  "language_info": {
   "codemirror_mode": {
    "name": "ipython",
    "version": 3
   },
   "file_extension": ".py",
   "mimetype": "text/x-python",
   "name": "python",
   "nbconvert_exporter": "python",
   "pygments_lexer": "ipython3",
   "version": "3.5.1"
  }
 },
 "nbformat": 4,
 "nbformat_minor": 0
}
