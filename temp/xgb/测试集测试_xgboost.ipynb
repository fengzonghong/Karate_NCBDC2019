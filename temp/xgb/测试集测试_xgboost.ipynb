{
 "cells": [
  {
   "cell_type": "code",
   "execution_count": 1,
   "metadata": {
    "collapsed": true
   },
   "outputs": [],
   "source": [
    "import pickle\n",
    "import pandas as pd\n",
    "import numpy as np\n",
    "import pathlib"
   ]
  },
  {
   "cell_type": "code",
   "execution_count": 2,
   "metadata": {
    "collapsed": false
   },
   "outputs": [],
   "source": [
    "data_root = pathlib.Path('.\\\\TestData\\\\')\n",
    "all_test_paths = list(data_root.glob('*.csv'))\n",
    "all_test_paths = [str(path) for path in all_test_paths]\n",
    "all_test_paths = sorted(all_test_paths)"
   ]
  },
  {
   "cell_type": "code",
   "execution_count": 3,
   "metadata": {
    "collapsed": true
   },
   "outputs": [],
   "source": [
    "def test_predict(test_path):\n",
    "    #读取Model\n",
    "    with open('model/xgb_speed682.pickle', 'rb') as f:\n",
    "        xgb_model = pickle.load(f)\n",
    "    df = pd.read_csv(test_path)\n",
    "    test_X = df.ix[:,1:8]\n",
    "    pred_X = xgb_model.predict(test_X)\n",
    "    pred_X_dis = pred_X * df['time_diff'] / 3600\n",
    "    return pred_X_dis"
   ]
  },
  {
   "cell_type": "code",
   "execution_count": null,
   "metadata": {
    "collapsed": true
   },
   "outputs": [],
   "source": [
    "pred_X_list = []"
   ]
  },
  {
   "cell_type": "code",
   "execution_count": null,
   "metadata": {
    "collapsed": false
   },
   "outputs": [
    {
     "name": "stdout",
     "output_type": "stream",
     "text": [
      "[10:14:16] WARNING: C:/Jenkins/workspace/xgboost-win64_release_0.90/src/objective/regression_obj.cu:152: reg:linear is now deprecated in favor of reg:squarederror.\n",
      "[10:14:16] WARNING: C:/Jenkins/workspace/xgboost-win64_release_0.90/src/objective/regression_obj.cu:152: reg:linear is now deprecated in favor of reg:squarederror.\n",
      "[10:14:17] WARNING: C:/Jenkins/workspace/xgboost-win64_release_0.90/src/objective/regression_obj.cu:152: reg:linear is now deprecated in favor of reg:squarederror.\n"
     ]
    }
   ],
   "source": [
    "for test_path in all_test_paths:\n",
    "    pred_X_arr = test_predict(test_path)\n",
    "    pred_X_list.append(pred_X_arr)"
   ]
  },
  {
   "cell_type": "code",
   "execution_count": null,
   "metadata": {
    "collapsed": false
   },
   "outputs": [],
   "source": [
    "for i in range(len(pred_X_list)):\n",
    "    \n",
    "    np.savetxt('tmp/test_pred_{}.csv'.format(i), pred_X_list[i], delimiter = ',')"
   ]
  },
  {
   "cell_type": "code",
   "execution_count": null,
   "metadata": {
    "collapsed": true
   },
   "outputs": [],
   "source": [
    "submit_pred = []\n",
    "for i in pred_X_list:\n",
    "    pred_sum = np.sum(i)\n",
    "    submit_pred.append(pred_sum)"
   ]
  },
  {
   "cell_type": "code",
   "execution_count": null,
   "metadata": {
    "collapsed": false
   },
   "outputs": [],
   "source": [
    "print(\"0号车预测数据：\", submit_pred[0:10])\n",
    "print(\"1号车预测数据：\", submit_pred[35:45])\n",
    "print(\"2号车预测数据：\", submit_pred[45:55])\n",
    "print(\"3号车预测数据：\", submit_pred[55:65])\n",
    "print(\"4号车预测数据：\", submit_pred[65:75])\n",
    "print(\"5号车预测数据：\", submit_pred[75:80])\n",
    "print(\"6号车预测数据：\", submit_pred[80:85])\n",
    "print(\"7号车预测数据：\", submit_pred[85:90])\n",
    "print(\"8号车预测数据：\", submit_pred[90:95])\n",
    "print(\"9号车预测数据：\", submit_pred[95:100])\n",
    "print(\"10号车预测数据：\", submit_pred[10:15])\n",
    "print(\"11号车预测数据：\", submit_pred[15:20])\n",
    "print(\"12号车预测数据：\", submit_pred[20:25])\n",
    "print(\"13号车预测数据：\", submit_pred[25:30])\n",
    "print(\"14号车预测数据：\", submit_pred[30:35])"
   ]
  },
  {
   "cell_type": "code",
   "execution_count": null,
   "metadata": {
    "collapsed": false
   },
   "outputs": [],
   "source": [
    "submit_df = pd.read_csv('submit/Submit.csv')"
   ]
  },
  {
   "cell_type": "code",
   "execution_count": null,
   "metadata": {
    "collapsed": false
   },
   "outputs": [],
   "source": [
    "# 放置0号车\n",
    "for i in range(10):\n",
    "    submit_df['Answer'][i] = submit_pred[i]\n",
    "# 放置1号车\n",
    "for i in range(10):\n",
    "    submit_df['Answer'][i+10] = submit_pred[i+35]\n",
    "# 放置2号车\n",
    "for i in range(10):\n",
    "    submit_df['Answer'][i+20] = submit_pred[i+45]\n",
    "# 放置3号车\n",
    "for i in range(10):\n",
    "    submit_df['Answer'][i+30] = submit_pred[i+55]\n",
    "# 放置4号车\n",
    "for i in range(10):\n",
    "    submit_df['Answer'][i+40] = submit_pred[i+65]\n",
    "# 放置5号车\n",
    "for i in range(5):\n",
    "    submit_df['Answer'][i+50] = submit_pred[i+75]\n",
    "# 放置6号车\n",
    "for i in range(5):\n",
    "    submit_df['Answer'][i+55] = submit_pred[i+80]\n",
    "# 放置7号车\n",
    "for i in range(5):\n",
    "    submit_df['Answer'][i+60] = submit_pred[i+85]\n",
    "# 放置8号车\n",
    "for i in range(5):\n",
    "    submit_df['Answer'][i+65] = submit_pred[i+90]\n",
    "# 放置9号车\n",
    "for i in range(5):\n",
    "    submit_df['Answer'][i+70] = submit_pred[i+95]\n",
    "# 放置10号车\n",
    "for i in range(5):\n",
    "    submit_df['Answer'][i+75] = submit_pred[i+10]\n",
    "# 放置11号车\n",
    "for i in range(5):\n",
    "    submit_df['Answer'][i+80] = submit_pred[i+15]\n",
    "# 放置12号车\n",
    "for i in range(5):\n",
    "    submit_df['Answer'][i+85] = submit_pred[i+20]\n",
    "# 放置13号车\n",
    "for i in range(5):\n",
    "    submit_df['Answer'][i+90] = submit_pred[i+25]\n",
    "# 放置14号车\n",
    "for i in range(5):\n",
    "    submit_df['Answer'][i+95] = submit_pred[i+30]"
   ]
  },
  {
   "cell_type": "code",
   "execution_count": null,
   "metadata": {
    "collapsed": true
   },
   "outputs": [],
   "source": [
    "submit_df.to_csv('submit/submit_xgboost_682.csv', index=False)"
   ]
  },
  {
   "cell_type": "code",
   "execution_count": null,
   "metadata": {
    "collapsed": true
   },
   "outputs": [],
   "source": []
  },
  {
   "cell_type": "code",
   "execution_count": null,
   "metadata": {
    "collapsed": true
   },
   "outputs": [],
   "source": []
  }
 ],
 "metadata": {
  "anaconda-cloud": {},
  "kernelspec": {
   "display_name": "Python [Root]",
   "language": "python",
   "name": "Python [Root]"
  },
  "language_info": {
   "codemirror_mode": {
    "name": "ipython",
    "version": 3
   },
   "file_extension": ".py",
   "mimetype": "text/x-python",
   "name": "python",
   "nbconvert_exporter": "python",
   "pygments_lexer": "ipython3",
   "version": "3.5.1"
  }
 },
 "nbformat": 4,
 "nbformat_minor": 0
}
