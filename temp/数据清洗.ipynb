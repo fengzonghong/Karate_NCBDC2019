{
 "cells": [
  {
   "cell_type": "code",
   "execution_count": 25,
   "metadata": {
    "collapsed": true
   },
   "outputs": [],
   "source": [
    "import numpy as np\n",
    "import pandas as pd"
   ]
  },
  {
   "cell_type": "code",
   "execution_count": 26,
   "metadata": {
    "collapsed": true
   },
   "outputs": [],
   "source": [
    "# 导入数据集\n",
    "train_XY = pd.read_csv('train_XY_s4.csv')\n"
   ]
  },
  {
   "cell_type": "code",
   "execution_count": 27,
   "metadata": {
    "collapsed": false
   },
   "outputs": [
    {
     "data": {
      "text/plain": [
       "(348428, 10)"
      ]
     },
     "execution_count": 27,
     "metadata": {},
     "output_type": "execute_result"
    }
   ],
   "source": [
    "train_XY.shape"
   ]
  },
  {
   "cell_type": "code",
   "execution_count": 28,
   "metadata": {
    "collapsed": false
   },
   "outputs": [
    {
     "data": {
      "text/html": [
       "<div>\n",
       "<table border=\"1\" class=\"dataframe\">\n",
       "  <thead>\n",
       "    <tr style=\"text-align: right;\">\n",
       "      <th></th>\n",
       "      <th>speed</th>\n",
       "      <th>total_voltage</th>\n",
       "      <th>total_current</th>\n",
       "      <th>soc</th>\n",
       "      <th>temp_max</th>\n",
       "      <th>temp_min</th>\n",
       "      <th>motor_voltage</th>\n",
       "      <th>motor_current</th>\n",
       "      <th>label</th>\n",
       "      <th>time_seconds</th>\n",
       "    </tr>\n",
       "  </thead>\n",
       "  <tbody>\n",
       "    <tr>\n",
       "      <th>0</th>\n",
       "      <td>0.0</td>\n",
       "      <td>538.2</td>\n",
       "      <td>-19.0</td>\n",
       "      <td>38.0</td>\n",
       "      <td>30.0</td>\n",
       "      <td>21.0</td>\n",
       "      <td>0.0</td>\n",
       "      <td>0.0</td>\n",
       "      <td>0.0</td>\n",
       "      <td>10.0</td>\n",
       "    </tr>\n",
       "    <tr>\n",
       "      <th>1</th>\n",
       "      <td>0.0</td>\n",
       "      <td>538.2</td>\n",
       "      <td>-19.0</td>\n",
       "      <td>38.0</td>\n",
       "      <td>30.0</td>\n",
       "      <td>21.0</td>\n",
       "      <td>0.0</td>\n",
       "      <td>0.0</td>\n",
       "      <td>0.0</td>\n",
       "      <td>10.0</td>\n",
       "    </tr>\n",
       "    <tr>\n",
       "      <th>2</th>\n",
       "      <td>0.0</td>\n",
       "      <td>538.2</td>\n",
       "      <td>-19.0</td>\n",
       "      <td>38.0</td>\n",
       "      <td>30.0</td>\n",
       "      <td>21.0</td>\n",
       "      <td>0.0</td>\n",
       "      <td>0.0</td>\n",
       "      <td>0.0</td>\n",
       "      <td>10.0</td>\n",
       "    </tr>\n",
       "  </tbody>\n",
       "</table>\n",
       "</div>"
      ],
      "text/plain": [
       "   speed  total_voltage  total_current   soc  temp_max  temp_min  \\\n",
       "0    0.0          538.2          -19.0  38.0      30.0      21.0   \n",
       "1    0.0          538.2          -19.0  38.0      30.0      21.0   \n",
       "2    0.0          538.2          -19.0  38.0      30.0      21.0   \n",
       "\n",
       "   motor_voltage  motor_current  label  time_seconds  \n",
       "0            0.0            0.0    0.0          10.0  \n",
       "1            0.0            0.0    0.0          10.0  \n",
       "2            0.0            0.0    0.0          10.0  "
      ]
     },
     "execution_count": 28,
     "metadata": {},
     "output_type": "execute_result"
    }
   ],
   "source": [
    "train_XY.head(3)"
   ]
  },
  {
   "cell_type": "code",
   "execution_count": 29,
   "metadata": {
    "collapsed": false
   },
   "outputs": [
    {
     "name": "stdout",
     "output_type": "stream",
     "text": [
      "未剔除之前数据大小：                           (348428, 10)\n",
      "剔除label小于0和label大于0.2之后：             (347764, 10)\n",
      "剔除motor_current等于0，但speed不等于0 之后：  (331068, 10)\n",
      "剔除motor_voltage等于0，但speed不等于0 之后：  (331068, 10)\n",
      "剔除total_voltage等于0，但speed不等于0 之后：  (331066, 10)\n",
      "剔除total_current等于0，但speed不等于0 之后：  (328231, 10)\n",
      "剔除soc小于20，但label不等于0之后：            (328154, 10)\n",
      "剔除label等于0，但是电车速度大于18之后:        (313458, 10)\n",
      "剔除label等于0.2，但是电车速度小于36之后:        (313112, 10)\n",
      "剔除label等于0.1， 但是电车速度小于18之后：      (303203, 10)\n",
      "剔除label等于0.1， 但是电车速度大于54之后：      (303198, 10)\n",
      "剔除时间间隔不等于10秒的数据：                   (297541, 10)\n"
     ]
    }
   ],
   "source": [
    "# 剔除 \n",
    "print(\"未剔除之前数据大小：                          \",train_XY.shape)\n",
    "train_XY_t0 = train_XY[(train_XY.label <= 0.21) & (train_XY.label >= 0)]\n",
    "print(\"剔除label小于0和label大于0.2之后：            \",train_XY_t0.shape)\n",
    "\n",
    "train_XY_t1 = train_XY_t0[~((train_XY_t0.motor_current == 0) & (train_XY_t0.speed != 0))]\n",
    "print(\"剔除motor_current等于0，但speed不等于0 之后： \",train_XY_t1.shape)\n",
    "\n",
    "train_XY_t2 = train_XY_t1[~((train_XY_t1.motor_voltage == 0) & (train_XY_t1.speed != 0))]\n",
    "print(\"剔除motor_voltage等于0，但speed不等于0 之后： \",train_XY_t2.shape)   \n",
    "\n",
    "train_XY_t3 = train_XY_t2[~((train_XY_t2.total_voltage == 0) & (train_XY_t2.speed != 0))]\n",
    "print(\"剔除total_voltage等于0，但speed不等于0 之后： \",train_XY_t3.shape)\n",
    "\n",
    "train_XY_t4 = train_XY_t3[~((train_XY_t3.total_current == 0) & (train_XY_t3.speed != 0))]\n",
    "print(\"剔除total_current等于0，但speed不等于0 之后： \",train_XY_t4.shape)\n",
    "\n",
    "train_XY_t5 = train_XY_t4[~((train_XY_t4.soc < 20) & train_XY_t4.label > 0)]\n",
    "print(\"剔除soc小于20，但label不等于0之后：           \",train_XY_t5.shape)\n",
    "\n",
    "train_XY_t6 = train_XY_t5[~((train_XY_t5.label == 0) & (train_XY_t5.speed > 18))]\n",
    "print(\"剔除label等于0，但是电车速度大于18之后:       \",train_XY_t6.shape)\n",
    "train_XY_t7 = train_XY_t6[~((train_XY_t6.label >= 0.2) & (train_XY_t6.speed < 36))]\n",
    "print(\"剔除label等于0.2，但是电车速度小于36之后:       \",train_XY_t7.shape)\n",
    "\n",
    "train_XY_t8 = train_XY_t7[~((train_XY_t7.label > 0) & (train_XY_t7.label < 0.2) & (train_XY_t7.speed < 18))]\n",
    "print(\"剔除label等于0.1， 但是电车速度小于18之后：     \",train_XY_t8.shape)\n",
    "\n",
    "train_XY_t9 = train_XY_t8[~((train_XY_t8.label > 0) & (train_XY_t8.label < 0.2) & (train_XY_t8.speed > 54))]\n",
    "print(\"剔除label等于0.1， 但是电车速度大于54之后：     \",train_XY_t9.shape)\n",
    "\n",
    "train_XY_t10 = train_XY_t9[train_XY_t9.time_seconds == 10]\n",
    "print(\"剔除时间间隔不等于10秒的数据：                  \",train_XY_t10.shape)\n",
    "#train_XY_t11 = train_XY_t10[~((train_XY_t10.speed == 0) & (train_XY_t10.total_current != 0) & (train_XY_t10.total_voltage != 0)\n",
    "#                           & (train_XY_t10.motor_current != 0) & (train_XY_t10.motor_voltage != 0))]\n",
    "\n",
    "#print(\"剔除其他都不为0，速度为0的数据：                \", train_XY_t11.shape)"
   ]
  },
  {
   "cell_type": "code",
   "execution_count": 30,
   "metadata": {
    "collapsed": false
   },
   "outputs": [],
   "source": [
    "train_XY_t10.to_csv('train_XY_No4_t.csv',index=False)"
   ]
  },
  {
   "cell_type": "code",
   "execution_count": null,
   "metadata": {
    "collapsed": true
   },
   "outputs": [],
   "source": []
  }
 ],
 "metadata": {
  "anaconda-cloud": {},
  "kernelspec": {
   "display_name": "Python [Root]",
   "language": "python",
   "name": "Python [Root]"
  },
  "language_info": {
   "codemirror_mode": {
    "name": "ipython",
    "version": 3
   },
   "file_extension": ".py",
   "mimetype": "text/x-python",
   "name": "python",
   "nbconvert_exporter": "python",
   "pygments_lexer": "ipython3",
   "version": "3.5.1"
  }
 },
 "nbformat": 4,
 "nbformat_minor": 1
}
