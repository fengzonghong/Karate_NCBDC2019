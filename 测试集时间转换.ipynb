{
 "cells": [
  {
   "cell_type": "code",
   "execution_count": 1,
   "metadata": {
    "collapsed": true
   },
   "outputs": [],
   "source": [
    "import pickle\n",
    "import pandas as pd\n",
    "import numpy as np\n",
    "import pathlib"
   ]
  },
  {
   "cell_type": "code",
   "execution_count": 2,
   "metadata": {
    "collapsed": false
   },
   "outputs": [],
   "source": [
    "data_root = pathlib.Path('.\\\\TestData\\\\')\n",
    "all_test_paths = list(data_root.glob('*.csv'))\n",
    "all_test_paths = [str(path) for path in all_test_paths]\n",
    "all_test_paths = sorted(all_test_paths)"
   ]
  },
  {
   "cell_type": "markdown",
   "metadata": {},
   "source": [
    "## 将时间格式转换成为时间间隔形式"
   ]
  },
  {
   "cell_type": "code",
   "execution_count": 4,
   "metadata": {
    "collapsed": true
   },
   "outputs": [],
   "source": [
    "import dateutil\n",
    "def time_transform(data):\n",
    "    time_array = data['time'].astype('int64').astype('str').values\n",
    "    for i in range(len(time_array)):\n",
    "        time_array[i] = dateutil.parser.parse(time_array[i]).strftime('%Y-%m-%d %H:%M:%S')\n",
    "    time_Index = pd.to_datetime(time_array)\n",
    "    time_diff_array = np.zeros((len(time_Index)))\n",
    "    for i in range(len(time_Index)):\n",
    "        if i == 0:\n",
    "            time_diff_array[i] = 10\n",
    "        else:\n",
    "            if (time_Index[i] - time_Index[i-1]).seconds >= 600:\n",
    "                time_diff_array[i] = 0\n",
    "            else:\n",
    "                time_diff_array[i] = (time_Index[i] - time_Index[i-1]).seconds\n",
    "    time_diff_df = pd.DataFrame(time_diff_array, columns=['time_diff'])\n",
    "    data_final = pd.concat([time_diff_df, data.iloc[:,1:]], axis=1)\n",
    "    return data_final"
   ]
  },
  {
   "cell_type": "code",
   "execution_count": 5,
   "metadata": {
    "collapsed": true
   },
   "outputs": [],
   "source": [
    "for test_path in all_test_paths:\n",
    "    df = pd.read_csv(test_path)\n",
    "    data_final = time_transform(df)\n",
    "    data_final.to_csv(test_path,index=False)"
   ]
  },
  {
   "cell_type": "code",
   "execution_count": null,
   "metadata": {
    "collapsed": true
   },
   "outputs": [],
   "source": []
  }
 ],
 "metadata": {
  "anaconda-cloud": {},
  "kernelspec": {
   "display_name": "Python [Root]",
   "language": "python",
   "name": "Python [Root]"
  },
  "language_info": {
   "codemirror_mode": {
    "name": "ipython",
    "version": 3
   },
   "file_extension": ".py",
   "mimetype": "text/x-python",
   "name": "python",
   "nbconvert_exporter": "python",
   "pygments_lexer": "ipython3",
   "version": "3.5.1"
  }
 },
 "nbformat": 4,
 "nbformat_minor": 0
}
